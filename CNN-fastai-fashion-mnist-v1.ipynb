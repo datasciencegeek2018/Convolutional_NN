{
 "cells": [
  {
   "cell_type": "markdown",
   "metadata": {},
   "source": [
    "### Convolutional NN for the Fashion-MNIST dataset\n",
    "\n",
    "* Methodology adapted from fastai developed by Jeremy Howard\n",
    "* Trained on GPU machine\n",
    "* dataset has fashion images for 10 different product categories, 60K training images and 10K validation images\n",
    "* we leverage a pretrained **RESNET 34** for our convolutional layers\n",
    "* achieves ~89% accuracy without significant customization of model"
   ]
  },
  {
   "cell_type": "code",
   "execution_count": 43,
   "metadata": {},
   "outputs": [],
   "source": [
    "%reload_ext autoreload\n",
    "%autoreload 2\n",
    "%matplotlib inline"
   ]
  },
  {
   "cell_type": "code",
   "execution_count": 44,
   "metadata": {},
   "outputs": [],
   "source": [
    "from fastai.imports import *"
   ]
  },
  {
   "cell_type": "code",
   "execution_count": 45,
   "metadata": {},
   "outputs": [],
   "source": [
    "from fastai.transforms import *\n",
    "from fastai.conv_learner import *\n",
    "from fastai.model import *\n",
    "from fastai.dataset import *\n",
    "from fastai.sgdr import *\n",
    "from fastai.plots import *"
   ]
  },
  {
   "cell_type": "code",
   "execution_count": 46,
   "metadata": {},
   "outputs": [],
   "source": [
    "# set path and size of image to 224\n",
    "PATH='data/'\n",
    "sz=224"
   ]
  },
  {
   "cell_type": "markdown",
   "metadata": {},
   "source": [
    "### We precompute the activations of the convolutional layers from RESNET 34 so that the training is done speedily\n",
    "* delete tmp directory to ensure computation of pre-activations\n",
    "\n",
    "### In order to find the optimal learning rate, we adopt an approach outlined in _cyclical learning rates for NN_ by Leslie Smith\n",
    "* start with a very low learning rate\n",
    "* increase LR e.g. by doubling and track the loss\n",
    "* look at the plot of loss vs LR to identify the highest LR where loss is still decreasing\n",
    "* this exercise suggests an optimal LR of 0.01"
   ]
  },
  {
   "cell_type": "code",
   "execution_count": 47,
   "metadata": {},
   "outputs": [
    {
     "name": "stdout",
     "output_type": "stream",
     "text": [
      "100%|██████████| 938/938 [02:42<00:00,  5.79it/s]\n",
      "100%|██████████| 157/157 [00:25<00:00,  6.06it/s]\n"
     ]
    },
    {
     "data": {
      "application/vnd.jupyter.widget-view+json": {
       "model_id": "f1f4fd83cb84412a8c2b84a78e47ceaa",
       "version_major": 2,
       "version_minor": 0
      },
      "text/html": [
       "<p>Failed to display Jupyter Widget of type <code>HBox</code>.</p>\n",
       "<p>\n",
       "  If you're reading this message in the Jupyter Notebook or JupyterLab Notebook, it may mean\n",
       "  that the widgets JavaScript is still loading. If this message persists, it\n",
       "  likely means that the widgets JavaScript library is either not installed or\n",
       "  not enabled. See the <a href=\"https://ipywidgets.readthedocs.io/en/stable/user_install.html\">Jupyter\n",
       "  Widgets Documentation</a> for setup instructions.\n",
       "</p>\n",
       "<p>\n",
       "  If you're reading this message in another frontend (for example, a static\n",
       "  rendering on GitHub or <a href=\"https://nbviewer.jupyter.org/\">NBViewer</a>),\n",
       "  it may mean that your frontend doesn't currently support widgets.\n",
       "</p>\n"
      ],
      "text/plain": [
       "HBox(children=(IntProgress(value=0, description='Epoch', max=1), HTML(value='')))"
      ]
     },
     "metadata": {},
     "output_type": "display_data"
    },
    {
     "name": "stdout",
     "output_type": "stream",
     "text": [
      " 80%|████████  | 752/938 [00:09<00:02, 83.43it/s, loss=1.13] \n",
      "                                                            \r"
     ]
    }
   ],
   "source": [
    "arch=resnet34\n",
    "data=ImageClassifierData.from_paths(PATH, tfms=tfms_from_model(arch,sz))\n",
    "learn=ConvLearner.pretrained(arch,data,precompute=True)\n",
    "learn.lr_find()"
   ]
  },
  {
   "cell_type": "code",
   "execution_count": 48,
   "metadata": {},
   "outputs": [
    {
     "data": {
      "image/png": "[encoded data removed]",
      "text/plain": [
       "<matplotlib.figure.Figure at 0x7fe43f3d70f0>"
      ]
     },
     "metadata": {},
     "output_type": "display_data"
    }
   ],
   "source": [
    "learn.sched.plot()"
   ]
  },
  {
   "cell_type": "code",
   "execution_count": 49,
   "metadata": {},
   "outputs": [
    {
     "data": {
      "application/vnd.jupyter.widget-view+json": {
       "model_id": "761cb829479f48b899117032528cd583",
       "version_major": 2,
       "version_minor": 0
      },
      "text/html": [
       "<p>Failed to display Jupyter Widget of type <code>HBox</code>.</p>\n",
       "<p>\n",
       "  If you're reading this message in the Jupyter Notebook or JupyterLab Notebook, it may mean\n",
       "  that the widgets JavaScript is still loading. If this message persists, it\n",
       "  likely means that the widgets JavaScript library is either not installed or\n",
       "  not enabled. See the <a href=\"https://ipywidgets.readthedocs.io/en/stable/user_install.html\">Jupyter\n",
       "  Widgets Documentation</a> for setup instructions.\n",
       "</p>\n",
       "<p>\n",
       "  If you're reading this message in another frontend (for example, a static\n",
       "  rendering on GitHub or <a href=\"https://nbviewer.jupyter.org/\">NBViewer</a>),\n",
       "  it may mean that your frontend doesn't currently support widgets.\n",
       "</p>\n"
      ],
      "text/plain": [
       "HBox(children=(IntProgress(value=0, description='Epoch', max=5), HTML(value='')))"
      ]
     },
     "metadata": {},
     "output_type": "display_data"
    },
    {
     "name": "stdout",
     "output_type": "stream",
     "text": [
      "epoch      trn_loss   val_loss   accuracy                    \n",
      "    0      0.440972   0.356697   0.8729    \n",
      "    1      0.405663   0.336862   0.8767                      \n",
      "    2      0.377815   0.320734   0.8832                      \n",
      "    3      0.369465   0.316947   0.8836                      \n",
      "    4      0.367653   0.314646   0.8868                      \n",
      "\n"
     ]
    },
    {
     "data": {
      "text/plain": [
       "[array([ 0.31465]), 0.88680000000000003]"
      ]
     },
     "execution_count": 49,
     "metadata": {},
     "output_type": "execute_result"
    }
   ],
   "source": [
    "learn.fit(.01,5)"
   ]
  },
  {
   "cell_type": "code",
   "execution_count": 50,
   "metadata": {},
   "outputs": [
    {
     "data": {
      "application/vnd.jupyter.widget-view+json": {
       "model_id": "843de137e35a434abbeb6c07fe94d815",
       "version_major": 2,
       "version_minor": 0
      },
      "text/html": [
       "<p>Failed to display Jupyter Widget of type <code>HBox</code>.</p>\n",
       "<p>\n",
       "  If you're reading this message in the Jupyter Notebook or JupyterLab Notebook, it may mean\n",
       "  that the widgets JavaScript is still loading. If this message persists, it\n",
       "  likely means that the widgets JavaScript library is either not installed or\n",
       "  not enabled. See the <a href=\"https://ipywidgets.readthedocs.io/en/stable/user_install.html\">Jupyter\n",
       "  Widgets Documentation</a> for setup instructions.\n",
       "</p>\n",
       "<p>\n",
       "  If you're reading this message in another frontend (for example, a static\n",
       "  rendering on GitHub or <a href=\"https://nbviewer.jupyter.org/\">NBViewer</a>),\n",
       "  it may mean that your frontend doesn't currently support widgets.\n",
       "</p>\n"
      ],
      "text/plain": [
       "HBox(children=(IntProgress(value=0, description='Epoch', max=5), HTML(value='')))"
      ]
     },
     "metadata": {},
     "output_type": "display_data"
    },
    {
     "name": "stdout",
     "output_type": "stream",
     "text": [
      "epoch      trn_loss   val_loss   accuracy                    \n",
      "    0      0.368088   0.298649   0.8906    \n",
      "    1      0.332542   0.295696   0.8939                      \n",
      "    2      0.316917   0.290133   0.8932                      \n",
      "    3      0.330227   0.285923   0.8919                      \n",
      "    4      0.327285   0.281955   0.893                       \n",
      "\n"
     ]
    },
    {
     "data": {
      "text/plain": [
       "[array([ 0.28195]), 0.89300000000000002]"
      ]
     },
     "execution_count": 50,
     "metadata": {},
     "output_type": "execute_result"
    }
   ],
   "source": [
    "learn.fit(.01, 5)"
   ]
  },
  {
   "cell_type": "markdown",
   "metadata": {},
   "source": [
    "### Critical that we be able to visualize the results of the model by looking at\n",
    "* most correctly identified images\n",
    "* most incorrectly identified images\n",
    "* repeat above for each of the 10 product categories"
   ]
  },
  {
   "cell_type": "code",
   "execution_count": 51,
   "metadata": {},
   "outputs": [
    {
     "data": {
      "text/plain": [
       "array([0, 0, 0, ..., 9, 9, 9])"
      ]
     },
     "execution_count": 51,
     "metadata": {},
     "output_type": "execute_result"
    }
   ],
   "source": [
    "data.val_y"
   ]
  },
  {
   "cell_type": "code",
   "execution_count": 52,
   "metadata": {},
   "outputs": [
    {
     "data": {
      "text/plain": [
       "['ankleboot',\n",
       " 'bag',\n",
       " 'coat',\n",
       " 'dress',\n",
       " 'pullover',\n",
       " 'sandal',\n",
       " 'shirt',\n",
       " 'sneaker',\n",
       " 'trouser',\n",
       " 'tshirt']"
      ]
     },
     "execution_count": 52,
     "metadata": {},
     "output_type": "execute_result"
    }
   ],
   "source": [
    "data.classes"
   ]
  },
  {
   "cell_type": "code",
   "execution_count": 53,
   "metadata": {},
   "outputs": [],
   "source": [
    "# predictions of validation set are typically in log scale\n",
    "log_preds=learn.predict()\n",
    "preds=np.argmax(log_preds, axis=1)"
   ]
  },
  {
   "cell_type": "code",
   "execution_count": 55,
   "metadata": {},
   "outputs": [],
   "source": [
    "def rand_by_mask(mask):\n",
    "    z=np.random.choice(np.where(mask)[0],4,replace=False)\n",
    "    return list(zip(z,data.val_y[z]))\n",
    "def rand_by_correct(is_correct):\n",
    "    return rand_by_mask((preds==data.val_y)==is_correct)\n",
    "def plots(ims, figsize=(12,6), rows=1, titles=None):\n",
    "    f=plt.figure(figsize=figsize)\n",
    "    for i in range(len(ims)):\n",
    "        sp=f.add_subplot(rows, len(ims)//rows, i+1)\n",
    "        sp.axis('Off')\n",
    "        if titles is not None:\n",
    "            sp.set_title(titles[i], fontsize=16)\n",
    "            plt.imshow(ims[i], cmap='gray')\n",
    "def load_img_id(ds, idx):\n",
    "    return np.array(PIL.Image.open(PATH+ds.fnames[idx]))\n",
    "def plot_val_with_title(idxs, title):\n",
    "    imgs=[load_img_id(data.val_ds,x) for x,y in idxs]\n",
    "    title_probs=[np.exp(log_preds[:,y])[x] for x,y in idxs]\n",
    "    print(title)\n",
    "    return plots(imgs, rows=1, titles=title_probs, figsize=(16,8))"
   ]
  },
  {
   "cell_type": "code",
   "execution_count": 91,
   "metadata": {},
   "outputs": [
    {
     "name": "stdout",
     "output_type": "stream",
     "text": [
      "Correctly Classified\n"
     ]
    },
    {
     "data": {
      "image/png": "[encoded data removed]",
      "text/plain": [
       "<matplotlib.figure.Figure at 0x7fe450140d68>"
      ]
     },
     "metadata": {},
     "output_type": "display_data"
    }
   ],
   "source": [
    "# few correct labels at random\n",
    "plot_val_with_title(rand_by_correct(True), 'Correctly Classified')"
   ]
  },
  {
   "cell_type": "code",
   "execution_count": 90,
   "metadata": {},
   "outputs": [
    {
     "name": "stdout",
     "output_type": "stream",
     "text": [
      "In-Correctly Classified\n"
     ]
    },
    {
     "data": {
      "image/png": "[encoded data removed]",
      "text/plain": [
       "<matplotlib.figure.Figure at 0x7fe43f584588>"
      ]
     },
     "metadata": {},
     "output_type": "display_data"
    }
   ],
   "source": [
    "# few incorrect labels at random\n",
    "plot_val_with_title(rand_by_correct(False), 'In-Correctly Classified')"
   ]
  },
  {
   "cell_type": "code",
   "execution_count": 58,
   "metadata": {},
   "outputs": [],
   "source": [
    "def most_by_mask(mask,y, is_correct):\n",
    "    idxs=np.where(mask)[0]\n",
    "    if is_correct==True:\n",
    "        z=idxs[np.argsort(np.exp(log_preds[:,y])[idxs])[::-1][:4]]\n",
    "    else:\n",
    "        z=idxs[np.argsort(np.exp(log_preds[:,y])[idxs])[:4]]\n",
    "    return list(zip(z, data.val_y[z]))\n",
    "def most_by_correct(y, is_correct):\n",
    " #   mult=-1 if (y==1)==is_correct else 1\n",
    "    return most_by_mask(((preds==data.val_y)==is_correct)&(data.val_y==y),y, is_correct)"
   ]
  },
  {
   "cell_type": "code",
   "execution_count": 92,
   "metadata": {},
   "outputs": [
    {
     "name": "stdout",
     "output_type": "stream",
     "text": [
      "Most correct ankleboots\n"
     ]
    },
    {
     "data": {
      "image/png": "[encoded data removed]",
      "text/plain": [
       "<matplotlib.figure.Figure at 0x7fe3f735d048>"
      ]
     },
     "metadata": {},
     "output_type": "display_data"
    }
   ],
   "source": [
    "plot_val_with_title(most_by_correct(0, True), \"Most correct ankleboots\")"
   ]
  },
  {
   "cell_type": "code",
   "execution_count": 93,
   "metadata": {},
   "outputs": [
    {
     "name": "stdout",
     "output_type": "stream",
     "text": [
      "Most incorrect ankleboots\n"
     ]
    },
    {
     "data": {
      "image/png": "[encoded data removed]",
      "text/plain": [
       "<matplotlib.figure.Figure at 0x7fe3f77c8d68>"
      ]
     },
     "metadata": {},
     "output_type": "display_data"
    }
   ],
   "source": [
    "plot_val_with_title(most_by_correct(0, False), \"Most incorrect ankleboots\")"
   ]
  },
  {
   "cell_type": "markdown",
   "metadata": {},
   "source": [
    "### Data Augmentations \n",
    "\n",
    "* we can improve accuracy by adding more data sometimes\n",
    "\n",
    "#### However new labeled data is hard to get\n",
    "\n",
    "* Hence we can resort to image augmentations e.g. randomly changing images without impacting interpretation e.g. flipping, zooming, rotating\n",
    "* of course the type of augmentation that won't change interpretation is dependent on the images and the problem you are solving\n",
    "* note that for data augmentations to work the preactivations will need to be recomputed. The preactivations use the resnet34 weights applied to our images and since augmentation adds images we need to re-run by deleting the 'tmp' folder"
   ]
  },
  {
   "cell_type": "code",
   "execution_count": 79,
   "metadata": {},
   "outputs": [],
   "source": [
    "tfms=tfms_from_model(resnet34, sz, aug_tfms=transforms_side_on, max_zoom=1.1)"
   ]
  },
  {
   "cell_type": "code",
   "execution_count": 98,
   "metadata": {},
   "outputs": [
    {
     "name": "stdout",
     "output_type": "stream",
     "text": [
      "100%|██████████| 938/938 [02:41<00:00,  5.79it/s]\n",
      "100%|██████████| 157/157 [00:25<00:00,  6.10it/s]\n"
     ]
    }
   ],
   "source": [
    "data=ImageClassifierData.from_paths(PATH, tfms=tfms)\n",
    "learn=ConvLearner.pretrained(arch, data, precompute=True)"
   ]
  },
  {
   "cell_type": "markdown",
   "metadata": {},
   "source": [
    "### LR annealing and Stochastic Gradient Descent with restarts\n",
    "\n",
    "* As we get close to minimum we should be able to decrease the LR. \n",
    "* Implemented as a function (the cosine) -- cosine annealing (half the cosine curve)\n",
    "* In order to improve generalizability and not get stuck in spikey areas but instead find flat surfaces it would also be good to increase the lr and restart sometimes. This helps jumping around the loss fn. space during gradient descent\n",
    "* Cycle len refers to the number of epochs in a cycle\n",
    "* Before this parameter we also specify the # of cycles\n",
    "* In addition we can specify cycle mult which is a multiplier for cycle length and takes effect at end of each cycle\n",
    "* so e.g. if cycle len=1 and cycle mult=2 and number of cycles =3 then we will have a total of 7 epochs (1+2+4)\n",
    "\n",
    "#### finally we can also do something called 'snapshot ensembles' which involve saving weights at the end of each cycle and averaging them at the end\n"
   ]
  },
  {
   "cell_type": "code",
   "execution_count": 99,
   "metadata": {},
   "outputs": [
    {
     "data": {
      "application/vnd.jupyter.widget-view+json": {
       "model_id": "47d8738f93254b669227ff9439d0e80c",
       "version_major": 2,
       "version_minor": 0
      },
      "text/html": [
       "<p>Failed to display Jupyter Widget of type <code>HBox</code>.</p>\n",
       "<p>\n",
       "  If you're reading this message in the Jupyter Notebook or JupyterLab Notebook, it may mean\n",
       "  that the widgets JavaScript is still loading. If this message persists, it\n",
       "  likely means that the widgets JavaScript library is either not installed or\n",
       "  not enabled. See the <a href=\"https://ipywidgets.readthedocs.io/en/stable/user_install.html\">Jupyter\n",
       "  Widgets Documentation</a> for setup instructions.\n",
       "</p>\n",
       "<p>\n",
       "  If you're reading this message in another frontend (for example, a static\n",
       "  rendering on GitHub or <a href=\"https://nbviewer.jupyter.org/\">NBViewer</a>),\n",
       "  it may mean that your frontend doesn't currently support widgets.\n",
       "</p>\n"
      ],
      "text/plain": [
       "HBox(children=(IntProgress(value=0, description='Epoch', max=5), HTML(value='')))"
      ]
     },
     "metadata": {},
     "output_type": "display_data"
    },
    {
     "name": "stdout",
     "output_type": "stream",
     "text": [
      "epoch      trn_loss   val_loss   accuracy                    \n",
      "    0      0.462235   0.382153   0.8656    \n",
      "    1      0.433074   0.349555   0.8744                      \n",
      "    2      0.404007   0.330518   0.881                       \n",
      "    3      0.371712   0.326589   0.882                       \n",
      "    4      0.367714   0.316539   0.8854                      \n",
      "\n"
     ]
    },
    {
     "data": {
      "text/plain": [
       "[array([ 0.31654]), 0.88539999999999996]"
      ]
     },
     "execution_count": 99,
     "metadata": {},
     "output_type": "execute_result"
    }
   ],
   "source": [
    "learn.fit(.01,5, cycle_len=1)"
   ]
  },
  {
   "cell_type": "code",
   "execution_count": 15,
   "metadata": {},
   "outputs": [],
   "source": [
    "# remove tmp instead of setting precompute to False"
   ]
  },
  {
   "cell_type": "code",
   "execution_count": 100,
   "metadata": {},
   "outputs": [
    {
     "data": {
      "application/vnd.jupyter.widget-view+json": {
       "model_id": "a4133294dbe34428b0a84c8902dcba9e",
       "version_major": 2,
       "version_minor": 0
      },
      "text/html": [
       "<p>Failed to display Jupyter Widget of type <code>HBox</code>.</p>\n",
       "<p>\n",
       "  If you're reading this message in the Jupyter Notebook or JupyterLab Notebook, it may mean\n",
       "  that the widgets JavaScript is still loading. If this message persists, it\n",
       "  likely means that the widgets JavaScript library is either not installed or\n",
       "  not enabled. See the <a href=\"https://ipywidgets.readthedocs.io/en/stable/user_install.html\">Jupyter\n",
       "  Widgets Documentation</a> for setup instructions.\n",
       "</p>\n",
       "<p>\n",
       "  If you're reading this message in another frontend (for example, a static\n",
       "  rendering on GitHub or <a href=\"https://nbviewer.jupyter.org/\">NBViewer</a>),\n",
       "  it may mean that your frontend doesn't currently support widgets.\n",
       "</p>\n"
      ],
      "text/plain": [
       "HBox(children=(IntProgress(value=0, description='Epoch', max=7), HTML(value='')))"
      ]
     },
     "metadata": {},
     "output_type": "display_data"
    },
    {
     "name": "stdout",
     "output_type": "stream",
     "text": [
      "epoch      trn_loss   val_loss   accuracy                    \n",
      "    0      0.380479   0.310637   0.8856    \n",
      "    1      0.351851   0.307722   0.8881                       \n",
      "    2      0.355035   0.302783   0.8914                      \n",
      "    3      0.364926   0.298686   0.8919                       \n",
      "    4      0.328072   0.298042   0.8904                      \n",
      "    5      0.316846   0.292832   0.8914                      \n",
      "    6      0.315641   0.28876    0.8935                      \n",
      "\n"
     ]
    },
    {
     "data": {
      "text/plain": [
       "[array([ 0.28876]), 0.89349999999999996]"
      ]
     },
     "execution_count": 100,
     "metadata": {},
     "output_type": "execute_result"
    }
   ],
   "source": [
    "learn.fit(.01,3, cycle_len=1, cycle_mult=2)"
   ]
  },
  {
   "cell_type": "code",
   "execution_count": 101,
   "metadata": {},
   "outputs": [],
   "source": [
    "learn.unfreeze()"
   ]
  },
  {
   "cell_type": "code",
   "execution_count": 102,
   "metadata": {},
   "outputs": [
    {
     "data": {
      "application/vnd.jupyter.widget-view+json": {
       "model_id": "04fe98de5a824385a5f89e6cd60feffd",
       "version_major": 2,
       "version_minor": 0
      },
      "text/html": [
       "<p>Failed to display Jupyter Widget of type <code>HBox</code>.</p>\n",
       "<p>\n",
       "  If you're reading this message in the Jupyter Notebook or JupyterLab Notebook, it may mean\n",
       "  that the widgets JavaScript is still loading. If this message persists, it\n",
       "  likely means that the widgets JavaScript library is either not installed or\n",
       "  not enabled. See the <a href=\"https://ipywidgets.readthedocs.io/en/stable/user_install.html\">Jupyter\n",
       "  Widgets Documentation</a> for setup instructions.\n",
       "</p>\n",
       "<p>\n",
       "  If you're reading this message in another frontend (for example, a static\n",
       "  rendering on GitHub or <a href=\"https://nbviewer.jupyter.org/\">NBViewer</a>),\n",
       "  it may mean that your frontend doesn't currently support widgets.\n",
       "</p>\n"
      ],
      "text/plain": [
       "HBox(children=(IntProgress(value=0, description='Epoch', max=1), HTML(value='')))"
      ]
     },
     "metadata": {},
     "output_type": "display_data"
    },
    {
     "name": "stdout",
     "output_type": "stream",
     "text": [
      " 82%|████████▏ | 767/938 [02:07<00:28,  6.04it/s, loss=1.9]  "
     ]
    }
   ],
   "source": [
    "learn.lr_find()"
   ]
  },
  {
   "cell_type": "code",
   "execution_count": 103,
   "metadata": {},
   "outputs": [
    {
     "data": {
      "image/png": "[encoded data removed]",
      "text/plain": [
       "<matplotlib.figure.Figure at 0x7fe4532ace80>"
      ]
     },
     "metadata": {},
     "output_type": "display_data"
    }
   ],
   "source": [
    "learn.sched.plot()"
   ]
  },
  {
   "cell_type": "code",
   "execution_count": 104,
   "metadata": {},
   "outputs": [],
   "source": [
    "lr=np.array([1e-5, 1e-4, 1e-1])"
   ]
  },
  {
   "cell_type": "code",
   "execution_count": 105,
   "metadata": {},
   "outputs": [
    {
     "data": {
      "application/vnd.jupyter.widget-view+json": {
       "model_id": "635770a9c3e142dc9a927417159435d3",
       "version_major": 2,
       "version_minor": 0
      },
      "text/html": [
       "<p>Failed to display Jupyter Widget of type <code>HBox</code>.</p>\n",
       "<p>\n",
       "  If you're reading this message in the Jupyter Notebook or JupyterLab Notebook, it may mean\n",
       "  that the widgets JavaScript is still loading. If this message persists, it\n",
       "  likely means that the widgets JavaScript library is either not installed or\n",
       "  not enabled. See the <a href=\"https://ipywidgets.readthedocs.io/en/stable/user_install.html\">Jupyter\n",
       "  Widgets Documentation</a> for setup instructions.\n",
       "</p>\n",
       "<p>\n",
       "  If you're reading this message in another frontend (for example, a static\n",
       "  rendering on GitHub or <a href=\"https://nbviewer.jupyter.org/\">NBViewer</a>),\n",
       "  it may mean that your frontend doesn't currently support widgets.\n",
       "</p>\n"
      ],
      "text/plain": [
       "HBox(children=(IntProgress(value=0, description='Epoch', max=7), HTML(value='')))"
      ]
     },
     "metadata": {},
     "output_type": "display_data"
    },
    {
     "name": "stdout",
     "output_type": "stream",
     "text": [
      "  2%|▏         | 22/938 [00:04<02:48,  5.44it/s, loss=0.547]\n",
      "  2%|▏         | 23/938 [00:04<02:47,  5.47it/s, loss=0.559]"
     ]
    },
    {
     "name": "stderr",
     "output_type": "stream",
     "text": [
      "Exception in thread Thread-53:\n",
      "Traceback (most recent call last):\n",
      "  File \"/home/paperspace/anaconda3/envs/fastai/lib/python3.6/threading.py\", line 916, in _bootstrap_inner\n",
      "    self.run()\n",
      "  File \"/home/paperspace/anaconda3/envs/fastai/lib/python3.6/site-packages/tqdm/_tqdm.py\", line 144, in run\n",
      "    for instance in self.tqdm_cls._instances:\n",
      "  File \"/home/paperspace/anaconda3/envs/fastai/lib/python3.6/_weakrefset.py\", line 60, in __iter__\n",
      "    for itemref in self.data:\n",
      "RuntimeError: Set changed size during iteration\n",
      "\n"
     ]
    },
    {
     "name": "stdout",
     "output_type": "stream",
     "text": [
      "epoch      trn_loss   val_loss   accuracy                    \n",
      "    0      0.447202   0.361138   0.8698    \n",
      "    1      0.43618    0.36703    0.8665                      \n",
      "    2      0.378764   0.338377   0.8777                      \n",
      "    3      0.454154   0.362483   0.8672                      \n",
      "    4      0.393589   0.338833   0.8755                      \n",
      "    5      0.358693   0.32401    0.8819                      \n",
      "    6      0.362664   0.321717   0.8823                      \n",
      "\n"
     ]
    },
    {
     "data": {
      "text/plain": [
       "[array([ 0.32172]), 0.88229999999999997]"
      ]
     },
     "execution_count": 105,
     "metadata": {},
     "output_type": "execute_result"
    }
   ],
   "source": [
    "learn.fit(lr, 3, cycle_len=1, cycle_mult=2)"
   ]
  },
  {
   "cell_type": "code",
   "execution_count": 106,
   "metadata": {},
   "outputs": [
    {
     "name": "stdout",
     "output_type": "stream",
     "text": [
      "                                             \r"
     ]
    }
   ],
   "source": [
    "log_preds, y=learn.TTA()\n",
    "probs=np.mean(np.exp(log_preds),0)"
   ]
  },
  {
   "cell_type": "code",
   "execution_count": 107,
   "metadata": {},
   "outputs": [
    {
     "data": {
      "text/plain": [
       "0.89810000000000001"
      ]
     },
     "execution_count": 107,
     "metadata": {},
     "output_type": "execute_result"
    }
   ],
   "source": [
    "accuracy_np(probs,y)"
   ]
  },
  {
   "cell_type": "code",
   "execution_count": 108,
   "metadata": {},
   "outputs": [],
   "source": [
    "preds=np.argmax(probs, axis=1)\n",
    "from sklearn.metrics import confusion_matrix\n",
    "cm=confusion_matrix(y,preds)"
   ]
  },
  {
   "cell_type": "markdown",
   "metadata": {},
   "source": [
    "## Confusion matrix for all 10 categories--visual representation"
   ]
  },
  {
   "cell_type": "code",
   "execution_count": 109,
   "metadata": {},
   "outputs": [
    {
     "name": "stdout",
     "output_type": "stream",
     "text": [
      "[[952   1   0   0   0   6   0  41   0   0]\n",
      " [  0 986   4   1   3   1   2   0   0   3]\n",
      " [  0   1 857  30  48   0  62   0   0   2]\n",
      " [  0   3  27 900  11   1  38   0   4  16]\n",
      " [  0   2  64   9 860   0  58   0   0   7]\n",
      " [ 10   0   0   0   0 938   0  52   0   0]\n",
      " [  0  14  82  36  55   0 677   0   2 134]\n",
      " [ 24   1   0   0   0   5   0 970   0   0]\n",
      " [  0   2   2  15   0   0   0   0 979   2]\n",
      " [  0  10   7  35  14   0  72   0   0 862]]\n"
     ]
    },
    {
     "data": {
      "image/png": "[encoded data removed]",
      "text/plain": [
       "<matplotlib.figure.Figure at 0x7fe450247f98>"
      ]
     },
     "metadata": {},
     "output_type": "display_data"
    }
   ],
   "source": [
    "plot_confusion_matrix(cm, data.classes)"
   ]
  }
 ],
 "metadata": {
  "kernelspec": {
   "display_name": "Python 3",
   "language": "python",
   "name": "python3"
  },
  "language_info": {
   "codemirror_mode": {
    "name": "ipython",
    "version": 3
   },
   "file_extension": ".py",
   "mimetype": "text/x-python",
   "name": "python",
   "nbconvert_exporter": "python",
   "pygments_lexer": "ipython3",
   "version": "3.6.4"
  }
 },
 "nbformat": 4,
 "nbformat_minor": 2
}
