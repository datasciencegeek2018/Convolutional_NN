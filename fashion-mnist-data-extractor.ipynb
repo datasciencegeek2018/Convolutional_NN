{
 "cells": [
  {
   "cell_type": "markdown",
   "metadata": {},
   "source": [
    "### Most image data is needed in a specific format\n",
    "* data for training and validation need to be in their respective folders\n",
    "* data for each class needs to be in a sub folder within the main folders above\n",
    "* Fashion-MNIST data is not naturally available that way hence needs to be extracted\n",
    "* code based on Christopher Masch's work "
   ]
  },
  {
   "cell_type": "code",
   "execution_count": 16,
   "metadata": {},
   "outputs": [],
   "source": [
    "import numpy as np\n",
    "import cv2, os, struct"
   ]
  },
  {
   "cell_type": "code",
   "execution_count": 17,
   "metadata": {},
   "outputs": [
    {
     "data": {
      "text/plain": [
       "'/home/paperspace/data'"
      ]
     },
     "execution_count": 17,
     "metadata": {},
     "output_type": "execute_result"
    }
   ],
   "source": [
    "pwd"
   ]
  },
  {
   "cell_type": "code",
   "execution_count": 18,
   "metadata": {},
   "outputs": [],
   "source": [
    "test_labels_path='/home/paperspace/cnn/data/raw/t10k-labels-idx1-ubyte'\n",
    "test_images_path='/home/paperspace/cnn/data/raw/t10k-images-idx3-ubyte'\n",
    "train_labels_path='/home/paperspace/cnn/data/raw/train-labels-idx1-ubyte'\n",
    "train_images_path='/home/paperspace/cnn/data/raw/train-images-idx3-ubyte'"
   ]
  },
  {
   "cell_type": "code",
   "execution_count": 19,
   "metadata": {},
   "outputs": [],
   "source": [
    "def extract_mnist(images_path, labels_path, save_folder):\n",
    "    labels=[]\n",
    "    \n",
    "    with open(labels_path, 'rb') as lbpath:\n",
    "        magic,n=struct.unpack('>II', lbpath.read(8))\n",
    "        labels=np.fromfile(lbpath, dtype=np.uint8)\n",
    "        \n",
    "    with open(images_path, 'rb') as images_file:\n",
    "        images_file.read(4)\n",
    "        images_file.read(4)\n",
    "        images_file.read(4)\n",
    "        images_file.read(4)\n",
    "        count=0\n",
    "        image=np.zeros((28,28,1), np.uint8)\n",
    "        image_bytes=images_file.read(784)\n",
    "        while image_bytes:\n",
    "            image_unsigned_char=struct.unpack(\"=784B\", image_bytes)\n",
    "            for i in range(784):\n",
    "                image.itemset(i,image_unsigned_char[i])\n",
    "            image_save_path=\"%s/%i/%d.png\" % (save_folder, labels[count], count)\n",
    "            save_path=\"%s/%i/\" % (save_folder, labels[count])\n",
    "            \n",
    "            if not os.path.exists(save_path):\n",
    "                os.makedirs(save_path)\n",
    "                \n",
    "            cv2.imwrite(image_save_path, image)\n",
    "            image_bytes=images_file.read(784)\n",
    "            count += 1        "
   ]
  },
  {
   "cell_type": "code",
   "execution_count": 20,
   "metadata": {},
   "outputs": [],
   "source": [
    "extract_mnist(test_images_path, test_labels_path, '/home/paperspace/cnn/data/test')\n",
    "extract_mnist(train_images_path, train_labels_path, '/home/paperspace/cnn/data/train')"
   ]
  }
 ],
 "metadata": {
  "kernelspec": {
   "display_name": "Python 3",
   "language": "python",
   "name": "python3"
  },
  "language_info": {
   "codemirror_mode": {
    "name": "ipython",
    "version": 3
   },
   "file_extension": ".py",
   "mimetype": "text/x-python",
   "name": "python",
   "nbconvert_exporter": "python",
   "pygments_lexer": "ipython3",
   "version": "3.6.4"
  }
 },
 "nbformat": 4,
 "nbformat_minor": 2
}
